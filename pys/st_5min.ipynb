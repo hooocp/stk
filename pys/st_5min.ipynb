{
 "cells": [
  {
   "cell_type": "code",
   "execution_count": null,
   "metadata": {
    "collapsed": false
   },
   "outputs": [],
   "source": [
    "%matplotlib notebook\n",
    "%pylab inline\n",
    "# -*- coding: utf-8 -*-\n",
    "import pandas as pd\n",
    "import numpy as np\n",
    "import matplotlib.pyplot as plt "
   ]
  },
  {
   "cell_type": "code",
   "execution_count": null,
   "metadata": {
    "collapsed": false
   },
   "outputs": [],
   "source": [
    "df = pd.read_csv('5min.csv',header=None)\n",
    "df.columns = ['id', 'trd_date', 'trd_time', 'o_price', 'h_price', 'l_price', 'c_price','trd_vol', 'trd_amt'] "
   ]
  },
  {
   "cell_type": "code",
   "execution_count": null,
   "metadata": {
    "collapsed": false
   },
   "outputs": [],
   "source": [
    "df_test = df[df['trd_date']>'2016/05/01']"
   ]
  },
  {
   "cell_type": "code",
   "execution_count": null,
   "metadata": {
    "collapsed": false
   },
   "outputs": [],
   "source": [
    "from hashlib import  md5\n",
    "df_test['md5_id'] = df_test['id'].apply(lambda x : md5(x.encode('utf-8')).hexdigest()[:6])\n",
    "del df_test['id']"
   ]
  },
  {
   "cell_type": "code",
   "execution_count": null,
   "metadata": {
    "collapsed": false
   },
   "outputs": [],
   "source": [
    "df_group_by = df_test.groupby(['md5_id','trd_date']).agg({'o_price': (np.average,np.std),\n",
    "                                                      'h_price': (np.average,np.std),\n",
    "                                                      'l_price': (np.average,np.std),\n",
    "                                                      'c_price': (np.average,np.std),\n",
    "                                                      'trd_vol': (np.sum,np.average,np.std)\n",
    "                                                      'trd_amt': (np.sum,np.average,np.std)})"
   ]
  },
  {
   "cell_type": "code",
   "execution_count": null,
   "metadata": {
    "collapsed": false
   },
   "outputs": [],
   "source": [
    "df_test[df_test['md5_id']=='005aa1'].iloc[[:,['o_price','c_price']]"
   ]
  },
  {
   "cell_type": "code",
   "execution_count": null,
   "metadata": {
    "collapsed": false
   },
   "outputs": [],
   "source": [
    "# 画出一些价格分布\n",
    "df_test['md5_id'].unique()[100:150]\n",
    "temp = df_test.ix[(df_test['md5_id']=='005aa1')&(df_test['trd_date']=='2016/05/03'),\n",
    "            ['o_price','c_price', 'h_price', 'l_price']]\n",
    "plt.hist(x=np.reshape(temp.values,np.product(temp.values.shape)),bins=30)"
   ]
  },
  {
   "cell_type": "code",
   "execution_count": null,
   "metadata": {
    "collapsed": false
   },
   "outputs": [],
   "source": [
    "df_group_by.xs(('0052f9', '2016/05/04'))"
   ]
  },
  {
   "cell_type": "code",
   "execution_count": null,
   "metadata": {
    "collapsed": false
   },
   "outputs": [],
   "source": [
    "#每日最高分布\n",
    "df_test['RN'] = df_test.sort_values('l_price', ascending=True) \\\n",
    "             .groupby(['trd_date','md5_id']) \\\n",
    "             .cumcount() + 1\n",
    "df_test[df_test['RN']==1].groupby('trd_time').size()"
   ]
  },
  {
   "cell_type": "code",
   "execution_count": null,
   "metadata": {
    "collapsed": false
   },
   "outputs": [],
   "source": [
    "# 日走势叠加\n",
    "df_test.groupby('trd_time').sum()"
   ]
  },
  {
   "cell_type": "code",
   "execution_count": null,
   "metadata": {
    "collapsed": true
   },
   "outputs": [],
   "source": [
    "#数据准备 sql 语句\n",
    "sql=''"
   ]
  }
 ],
 "metadata": {
  "kernelspec": {
   "display_name": "Python 3",
   "language": "python",
   "name": "python3"
  },
  "language_info": {
   "codemirror_mode": {
    "name": "ipython",
    "version": 3
   },
   "file_extension": ".py",
   "mimetype": "text/x-python",
   "name": "python",
   "nbconvert_exporter": "python",
   "pygments_lexer": "ipython3",
   "version": "3.5.1"
  }
 },
 "nbformat": 4,
 "nbformat_minor": 0
}
